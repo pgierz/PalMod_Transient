{
 "cells": [
  {
   "cell_type": "code",
   "execution_count": 1,
   "metadata": {},
   "outputs": [],
   "source": [
    "import hashlib\n",
    "import pandas as pd\n",
    "\n",
    "# Here, we make an empty dataframe (could be loaded as well)\n",
    "pism_database = pd.DataFrame(columns = ['ID', 'Command'])\n",
    "# or pism_database.read_csv(\"path\")\n",
    "\n",
    "def generate_pism_expid_from_string(pism_command):\n",
    "    pism_id = hashlib.md5(pism_command.encode()).hexdigest()[:6]\n",
    "    pism_database.loc[len(pism_database)] = [pism_id, pism_command]\n",
    "    \n",
    "generate_pism_expid_from_string(\"./pismr -i INPUT -o OUTPUT\")\n",
    "generate_pism_expid_from_string(\"./pismr -i INPUT2 -osize big\")\n",
    "\n",
    "# To save some file:\n",
    "#pism_database.to_csv(\"file_path_as_string\")"
   ]
  },
  {
   "cell_type": "code",
   "execution_count": 2,
   "metadata": {},
   "outputs": [
    {
     "data": {
      "text/html": [
       "<div>\n",
       "<style scoped>\n",
       "    .dataframe tbody tr th:only-of-type {\n",
       "        vertical-align: middle;\n",
       "    }\n",
       "\n",
       "    .dataframe tbody tr th {\n",
       "        vertical-align: top;\n",
       "    }\n",
       "\n",
       "    .dataframe thead th {\n",
       "        text-align: right;\n",
       "    }\n",
       "</style>\n",
       "<table border=\"1\" class=\"dataframe\">\n",
       "  <thead>\n",
       "    <tr style=\"text-align: right;\">\n",
       "      <th></th>\n",
       "      <th>ID</th>\n",
       "      <th>Command</th>\n",
       "    </tr>\n",
       "  </thead>\n",
       "  <tbody>\n",
       "    <tr>\n",
       "      <th>0</th>\n",
       "      <td>1dfa0a</td>\n",
       "      <td>./pismr -i INPUT -o OUTPUT</td>\n",
       "    </tr>\n",
       "    <tr>\n",
       "      <th>1</th>\n",
       "      <td>4be519</td>\n",
       "      <td>./pismr -i INPUT2 -osize big</td>\n",
       "    </tr>\n",
       "  </tbody>\n",
       "</table>\n",
       "</div>"
      ],
      "text/plain": [
       "       ID                       Command\n",
       "0  1dfa0a    ./pismr -i INPUT -o OUTPUT\n",
       "1  4be519  ./pismr -i INPUT2 -osize big"
      ]
     },
     "execution_count": 2,
     "metadata": {},
     "output_type": "execute_result"
    }
   ],
   "source": [
    "pism_database"
   ]
  },
  {
   "cell_type": "code",
   "execution_count": null,
   "metadata": {},
   "outputs": [],
   "source": []
  }
 ],
 "metadata": {
  "kernelspec": {
   "display_name": "Python 3",
   "language": "python",
   "name": "python3"
  },
  "language_info": {
   "codemirror_mode": {
    "name": "ipython",
    "version": 3
   },
   "file_extension": ".py",
   "mimetype": "text/x-python",
   "name": "python",
   "nbconvert_exporter": "python",
   "pygments_lexer": "ipython3",
   "version": "3.7.2"
  }
 },
 "nbformat": 4,
 "nbformat_minor": 2
}
